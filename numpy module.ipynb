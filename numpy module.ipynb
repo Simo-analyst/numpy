{
 "cells": [
  {
   "cell_type": "code",
   "execution_count": 1,
   "id": "034a636f",
   "metadata": {},
   "outputs": [],
   "source": [
    "# importing numpy module \n",
    "# numpy is used for scientific computing\n",
    "# used for working with arrays\n",
    "# installed as 'conda install numpy' or 'pip install numpy'\n",
    "import numpy as np"
   ]
  },
  {
   "cell_type": "code",
   "execution_count": 2,
   "id": "f76f128b",
   "metadata": {},
   "outputs": [
    {
     "name": "stdout",
     "output_type": "stream",
     "text": [
      "[ 1  3  5  7  9 11]\n"
     ]
    }
   ],
   "source": [
    "#creating a numpy array\n",
    "arr=np.array([1,3,5,7,9,11])\n",
    "print(arr)"
   ]
  },
  {
   "cell_type": "code",
   "execution_count": 3,
   "id": "0bea7f64",
   "metadata": {},
   "outputs": [
    {
     "data": {
      "text/plain": [
       "numpy.ndarray"
      ]
     },
     "execution_count": 3,
     "metadata": {},
     "output_type": "execute_result"
    }
   ],
   "source": [
    "# object created when we use array() method is called ndarray\n",
    "type(arr)"
   ]
  },
  {
   "cell_type": "code",
   "execution_count": 4,
   "id": "fe59e9ed",
   "metadata": {},
   "outputs": [
    {
     "name": "stdout",
     "output_type": "stream",
     "text": [
      "['cat' 'dog' 'rabbit']\n"
     ]
    }
   ],
   "source": [
    "# element in an array is called an element\n",
    "y=np.array(['cat','dog','rabbit']) # elements are strings\n",
    "print(y)"
   ]
  },
  {
   "cell_type": "code",
   "execution_count": 5,
   "id": "4a94b9c3",
   "metadata": {},
   "outputs": [
    {
     "name": "stdout",
     "output_type": "stream",
     "text": [
      "cat\n",
      "dog\n",
      "rabbit\n"
     ]
    }
   ],
   "source": [
    "# array indexing\n",
    "print(y[0])\n",
    "print(y[1])\n",
    "print(y[2])"
   ]
  },
  {
   "cell_type": "code",
   "execution_count": 6,
   "id": "2d4ac421",
   "metadata": {},
   "outputs": [
    {
     "name": "stdout",
     "output_type": "stream",
     "text": [
      "rabbit\n",
      "dog\n",
      "cat\n"
     ]
    }
   ],
   "source": [
    "# negative indexing\n",
    "print(y[-1])\n",
    "print(y[-2])\n",
    "print(y[-3])"
   ]
  },
  {
   "cell_type": "code",
   "execution_count": 11,
   "id": "1d4c4597",
   "metadata": {},
   "outputs": [
    {
     "name": "stdout",
     "output_type": "stream",
     "text": [
      "['c' 'd' 'e' 'f']\n"
     ]
    }
   ],
   "source": [
    "# array slicing-> used to access elements of an array using a range of two indexs\n",
    "arr1=np.array(['a','b','c','d','e','f'])\n",
    "print(arr1[2:]) "
   ]
  },
  {
   "cell_type": "code",
   "execution_count": 12,
   "id": "d0532612",
   "metadata": {},
   "outputs": [
    {
     "name": "stdout",
     "output_type": "stream",
     "text": [
      "['a' 'b' 'c' 'd' 'e']\n"
     ]
    }
   ],
   "source": [
    "arr1=np.array(['a','b','c','d','e','f'])\n",
    "print(arr1[0:5]) # prints from element indexed 0 with an excemption of element indexed 5"
   ]
  },
  {
   "cell_type": "code",
   "execution_count": 13,
   "id": "6f63555c",
   "metadata": {},
   "outputs": [
    {
     "name": "stdout",
     "output_type": "stream",
     "text": [
      "['c' 'd' 'e']\n"
     ]
    }
   ],
   "source": [
    "# negative slicing\n",
    "arr1=np.array(['a','b','c','d','e','f'])\n",
    "print(arr1[-4:-1]) #prints c,d,e"
   ]
  },
  {
   "cell_type": "code",
   "execution_count": 15,
   "id": "44d32a8c",
   "metadata": {},
   "outputs": [
    {
     "name": "stdout",
     "output_type": "stream",
     "text": [
      "<U1\n"
     ]
    }
   ],
   "source": [
    "# dtype property  returns data type of numpy array\n",
    "arr1=np.array(['a','b','c','d','e','f'])\n",
    "print(arr1.dtype)"
   ]
  },
  {
   "cell_type": "code",
   "execution_count": 16,
   "id": "6b6ee9ea",
   "metadata": {},
   "outputs": [
    {
     "name": "stdout",
     "output_type": "stream",
     "text": [
      "int32\n"
     ]
    }
   ],
   "source": [
    "arr=np.array([1,3,5,7,9,11])\n",
    "print(arr.dtype)"
   ]
  },
  {
   "cell_type": "code",
   "execution_count": 17,
   "id": "0315bd1d",
   "metadata": {},
   "outputs": [
    {
     "name": "stdout",
     "output_type": "stream",
     "text": [
      "float64\n"
     ]
    }
   ],
   "source": [
    "x=np.array([1.1,2.4,4.1,5.4])\n",
    "print(x.dtype)"
   ]
  },
  {
   "cell_type": "code",
   "execution_count": 18,
   "id": "fdcb47a3",
   "metadata": {},
   "outputs": [
    {
     "name": "stdout",
     "output_type": "stream",
     "text": [
      "bool\n"
     ]
    }
   ],
   "source": [
    "# bool type\n",
    "v=np.array([True,False])\n",
    "print(v.dtype)"
   ]
  },
  {
   "cell_type": "code",
   "execution_count": 21,
   "id": "38deafde",
   "metadata": {},
   "outputs": [
    {
     "name": "stdout",
     "output_type": "stream",
     "text": [
      "I love my cat\n",
      "I love my dog\n",
      "I love my rabbit\n"
     ]
    }
   ],
   "source": [
    "# iterating through an array\n",
    "y=np.array(['cat','dog','rabbit'])\n",
    "for pet in y:\n",
    "    print('I love my ' + pet)"
   ]
  },
  {
   "cell_type": "code",
   "execution_count": 23,
   "id": "6f8cd9aa",
   "metadata": {},
   "outputs": [
    {
     "name": "stdout",
     "output_type": "stream",
     "text": [
      "['bananas' 'mangoes' 'paw paw' 'oranges' 'watermelon' 'citrus']\n"
     ]
    }
   ],
   "source": [
    "# joiniing numpy arrays\n",
    "fruit1=np.array(['bananas','mangoes','paw paw'])\n",
    "fruit2=np.array(['oranges','watermelon','citrus'])\n",
    "fruits=np.concatenate((fruit1,fruit2))\n",
    "print(fruits)"
   ]
  },
  {
   "cell_type": "code",
   "execution_count": 24,
   "id": "630f4259",
   "metadata": {},
   "outputs": [
    {
     "name": "stdout",
     "output_type": "stream",
     "text": [
      "(array([3], dtype=int64),)\n"
     ]
    }
   ],
   "source": [
    "# numpy search\n",
    "fruits=np.concatenate((fruit1,fruit2))\n",
    "oranges=np.where(fruits=='oranges')\n",
    "print(oranges)"
   ]
  },
  {
   "cell_type": "code",
   "execution_count": 25,
   "id": "a7dd53e7",
   "metadata": {},
   "outputs": [
    {
     "name": "stdout",
     "output_type": "stream",
     "text": [
      "['bananas' 'citrus' 'mangoes' 'oranges' 'paw paw' 'watermelon']\n"
     ]
    }
   ],
   "source": [
    "# numpy sort\n",
    "fruits=np.concatenate((fruit1,fruit2))\n",
    "sorted=np.sort(fruits)\n",
    "print(sorted)"
   ]
  },
  {
   "cell_type": "code",
   "execution_count": null,
   "id": "82bb4832",
   "metadata": {},
   "outputs": [],
   "source": []
  }
 ],
 "metadata": {
  "kernelspec": {
   "display_name": "Python 3 (ipykernel)",
   "language": "python",
   "name": "python3"
  },
  "language_info": {
   "codemirror_mode": {
    "name": "ipython",
    "version": 3
   },
   "file_extension": ".py",
   "mimetype": "text/x-python",
   "name": "python",
   "nbconvert_exporter": "python",
   "pygments_lexer": "ipython3",
   "version": "3.11.4"
  }
 },
 "nbformat": 4,
 "nbformat_minor": 5
}
